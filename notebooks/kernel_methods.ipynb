{
 "cells": [
  {
   "cell_type": "code",
   "execution_count": 1,
   "id": "d20a611c",
   "metadata": {},
   "outputs": [],
   "source": [
    "# Navigate to appropriate directory\n",
    "import os\n",
    "while os.path.split(os.getcwd())[1] != \"data-challenge-kernel-methods\":\n",
    "    os.chdir(\"..\")\n",
    "    if os.getcwd() == \"/\":\n",
    "        raise ValueError()\n",
    "\n",
    "import numpy as np\n",
    "import kernels\n",
    "import matplotlib.pyplot as plt\n",
    "from time import time\n",
    "from tqdm import tqdm\n",
    "import pickle\n",
    "import networkx as nx\n",
    "import pandas as pd\n",
    "\n",
    "from sklearn.svm import SVC\n",
    "from sklearn.metrics import roc_auc_score\n",
    "\n",
    "\n",
    "from molecules import Molecule\n",
    "from kernel_methods import KernelSVC, KernelPCA, SVM\n",
    "from auc import auc_score"
   ]
  },
  {
   "cell_type": "code",
   "execution_count": 2,
   "id": "df45494f",
   "metadata": {},
   "outputs": [],
   "source": [
    "with open(\"data/training_data.pkl\", \"rb\") as file:\n",
    "    training_data = pickle.load(file)\n",
    "\n",
    "with open(\"data/training_labels.pkl\", \"rb\") as file:\n",
    "    training_labels = 2 * pickle.load(file) - 1  # labels in {-1, 1}\n",
    "\n",
    "with open(\"data/test_data.pkl\", \"rb\") as file:\n",
    "    test_data = pickle.load(file)\n",
    "\n",
    "training_data = [Molecule(graph) for graph in training_data]\n",
    "test_data = [Molecule(graph) for graph in test_data]"
   ]
  },
  {
   "cell_type": "code",
   "execution_count": 15,
   "id": "d82faac6",
   "metadata": {},
   "outputs": [],
   "source": [
    "K = np.load('kernels/wlsk.npy')\n",
    "K_test = np.load('kernels/wlsk_test.npy')\n",
    "\n",
    "np.random.seed(44)\n",
    "idx = np.random.permutation(6000)\n",
    "\n",
    "K_train = K[idx[:5000],:][:,idx[:5000]]\n",
    "K_eval = K[idx[5000:],:][:,idx[:5000]]\n",
    "\n",
    "labels_train = training_labels[idx[:5000]]\n",
    "labels_eval = training_labels[idx[5000:]]"
   ]
  },
  {
   "cell_type": "code",
   "execution_count": 4,
   "id": "e8f58011",
   "metadata": {},
   "outputs": [],
   "source": [
    "svc = [SVC(kernel='precomputed', C=1), SVM(C=1)][1]  # change index here to change type of SVC\n",
    "svc.fit(K_train, labels_train)"
   ]
  },
  {
   "cell_type": "code",
   "execution_count": 17,
   "id": "cc7a82f1",
   "metadata": {},
   "outputs": [
    {
     "name": "stdout",
     "output_type": "stream",
     "text": [
      "C 0.001\n",
      "AUC train: 0.9526826329010795\n",
      "AUC eval: 0.899359192254913\n",
      "C 0.003\n",
      "AUC train: 0.9553139686634832\n",
      "AUC eval: 0.9008195792574687\n",
      "C 0.01\n",
      "AUC train: 0.9704211645959219\n",
      "AUC eval: 0.9074668580277221\n",
      "C 0.03\n",
      "AUC train: 0.9854203913669933\n",
      "AUC eval: 0.9132454583223175\n",
      "C 0.1\n",
      "AUC train: 0.9925454130551218\n",
      "AUC eval: 0.9116717654316324\n"
     ]
    }
   ],
   "source": [
    "for C in [1e-3, 3e-3, 1e-2, 3e-2, 1e-1]:\n",
    "\n",
    "    svc = [SVC(kernel='precomputed', C=C), SVM(C=1)][0]  # change index here to change type of SVC\n",
    "    svc.fit(K_train, labels_train)\n",
    "\n",
    "    scores_train = svc.decision_function(K_train)\n",
    "    scores_eval = svc.decision_function(K_eval)\n",
    "\n",
    "    print(\"C\", C)\n",
    "    print(\"AUC train:\", auc_score(labels_train, scores_train))\n",
    "    print(\"AUC eval:\", auc_score(labels_eval, scores_eval))"
   ]
  },
  {
   "cell_type": "code",
   "execution_count": 6,
   "id": "9c372f8a",
   "metadata": {},
   "outputs": [
    {
     "name": "stdout",
     "output_type": "stream",
     "text": [
      "0.9946736819464093\n"
     ]
    }
   ],
   "source": [
    "# train SVC using the whole training data\n",
    "svc = [SVC(kernel='precomputed', C=1), SVM(C=1)][1]  # change index here to change type of SVC\n",
    "svc.fit(K, training_labels)\n",
    "\n",
    "# plot score on training data\n",
    "scores_train = svc.decision_function(K)\n",
    "print(auc_score(training_labels, svc.decision_function(K)))\n",
    "\n",
    "#predict labels on test data of different size \n",
    "pred = svc.decision_function(K_test.T)\n",
    "\n",
    "\n"
   ]
  },
  {
   "cell_type": "code",
   "execution_count": 7,
   "id": "ae933b4f",
   "metadata": {},
   "outputs": [],
   "source": [
    "Yte = {'Predicted' : pred} \n",
    "dataframe = pd.DataFrame(Yte) \n",
    "dataframe.index += 1 \n",
    "dataframe.to_csv('test_pred_2.csv',index_label='Id') "
   ]
  },
  {
   "cell_type": "code",
   "execution_count": null,
   "id": "2508cbd5",
   "metadata": {},
   "outputs": [],
   "source": []
  }
 ],
 "metadata": {
  "kernelspec": {
   "display_name": "Python 3",
   "language": "python",
   "name": "python3"
  },
  "language_info": {
   "codemirror_mode": {
    "name": "ipython",
    "version": 3
   },
   "file_extension": ".py",
   "mimetype": "text/x-python",
   "name": "python",
   "nbconvert_exporter": "python",
   "pygments_lexer": "ipython3",
   "version": "3.8.10"
  },
  "vscode": {
   "interpreter": {
    "hash": "4f58e81c2e092e1deee7556cb116668ef0b81c0e3f6aa3662faaf88ffce4bde0"
   }
  }
 },
 "nbformat": 4,
 "nbformat_minor": 5
}
