{
 "cells": [
  {
   "cell_type": "code",
   "execution_count": 1,
   "id": "d20a611c",
   "metadata": {},
   "outputs": [],
   "source": [
    "# Navigate to appropriate directory\n",
    "import os\n",
    "while os.path.split(os.getcwd())[1] != \"data-challenge-kernel-methods\":\n",
    "    os.chdir(\"..\")\n",
    "    if os.getcwd() == \"/\":\n",
    "        raise ValueError()\n",
    "\n",
    "import numpy as np\n",
    "import matplotlib.pyplot as plt\n",
    "from PIL import Image\n",
    "from time import time\n",
    "from tqdm import tqdm\n",
    "import pickle\n",
    "import networkx as nx\n",
    "\n",
    "from molecules import Molecule"
   ]
  },
  {
   "cell_type": "code",
   "execution_count": 2,
   "id": "df45494f",
   "metadata": {},
   "outputs": [],
   "source": [
    "with open(\"data/training_data.pkl\", \"rb\") as file:\n",
    "    training_data = pickle.load(file)\n",
    "\n",
    "with open(\"data/training_labels.pkl\", \"rb\") as file:\n",
    "    training_labels = pickle.load(file)"
   ]
  }
 ],
 "metadata": {
  "kernelspec": {
   "display_name": "Python 3 (ipykernel)",
   "language": "python",
   "name": "python3"
  },
  "language_info": {
   "codemirror_mode": {
    "name": "ipython",
    "version": 3
   },
   "file_extension": ".py",
   "mimetype": "text/x-python",
   "name": "python",
   "nbconvert_exporter": "python",
   "pygments_lexer": "ipython3",
   "version": "3.8.10"
  }
 },
 "nbformat": 4,
 "nbformat_minor": 5
}
