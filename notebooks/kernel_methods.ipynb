{
 "cells": [
  {
   "cell_type": "code",
   "execution_count": 1,
   "id": "d20a611c",
   "metadata": {},
   "outputs": [],
   "source": [
    "# Navigate to appropriate directory\n",
    "import os\n",
    "while os.path.split(os.getcwd())[1] != \"data-challenge-kernel-methods\":\n",
    "    os.chdir(\"..\")\n",
    "    if os.getcwd() == \"/\":\n",
    "        raise ValueError()\n",
    "\n",
    "import numpy as np\n",
    "import kernels\n",
    "import matplotlib.pyplot as plt\n",
    "from time import time\n",
    "from tqdm import tqdm\n",
    "import pickle\n",
    "import networkx as nx\n",
    "import pandas as pd\n",
    "\n",
    "from sklearn.svm import SVC\n",
    "from sklearn.metrics import roc_auc_score\n",
    "\n",
    "\n",
    "from molecules import Molecule\n",
    "from kernel_methods import SVM\n",
    "from auc import auc_score"
   ]
  },
  {
   "cell_type": "code",
   "execution_count": 2,
   "id": "df45494f",
   "metadata": {},
   "outputs": [],
   "source": [
    "with open(\"data/training_data.pkl\", \"rb\") as file:\n",
    "    training_data = pickle.load(file)\n",
    "\n",
    "with open(\"data/training_labels.pkl\", \"rb\") as file:\n",
    "    training_labels = 2 * pickle.load(file) - 1  # labels in {-1, 1}\n",
    "\n",
    "with open(\"data/test_data.pkl\", \"rb\") as file:\n",
    "    test_data = pickle.load(file)\n",
    "\n",
    "training_data = [Molecule(graph) for graph in training_data]\n",
    "test_data = [Molecule(graph) for graph in test_data]"
   ]
  },
  {
   "cell_type": "code",
   "execution_count": 3,
   "id": "d82faac6",
   "metadata": {},
   "outputs": [],
   "source": [
    "K = np.load('kernels/wlsk.npy')\n",
    "K_test = np.load('kernels/wlsk_test.npy')\n",
    "\n",
    "np.random.seed(44)\n",
    "idx = np.random.permutation(6000)\n",
    "\n",
    "K_train = K[idx[:5000],:][:,idx[:5000]]\n",
    "K_eval = K[idx[5000:],:][:,idx[:5000]]\n",
    "\n",
    "labels_train = training_labels[idx[:5000]]\n",
    "labels_eval = training_labels[idx[5000:]]"
   ]
  },
  {
   "cell_type": "code",
   "execution_count": 4,
   "id": "e8f58011",
   "metadata": {},
   "outputs": [],
   "source": [
    "svc = [SVC(kernel='precomputed', C=1), SVM(C=1)][1]  # change index here to change type of SVC\n",
    "svc.fit(K_train, labels_train)"
   ]
  },
  {
   "cell_type": "code",
   "execution_count": 5,
   "id": "cc7a82f1",
   "metadata": {},
   "outputs": [
    {
     "name": "stdout",
     "output_type": "stream",
     "text": [
      "C 0.03\n",
      "AUC train: 0.9855236457178205\n",
      "AUC eval: 0.9131699210635645\n",
      "C 1\n",
      "AUC train: 0.9971574407254019\n",
      "AUC eval: 0.9043950095051051\n"
     ]
    }
   ],
   "source": [
    "for C in [0.03, 1]: #[1e-3, 3e-3, 1e-2, 3e-2, 1e-1, 1]:\n",
    "\n",
    "    svc = [SVC(kernel='precomputed', C=C), SVM(C=C)][1]  # change index here to change type of SVC\n",
    "    svc.fit(K_train, labels_train)\n",
    "\n",
    "    scores_train = svc.decision_function(K_train)\n",
    "    scores_eval = svc.decision_function(K_eval)\n",
    "\n",
    "    print(\"C\", C)\n",
    "    print(\"AUC train:\", auc_score(labels_train, scores_train))\n",
    "    print(\"AUC eval:\", auc_score(labels_eval, scores_eval))"
   ]
  }
 ],
 "metadata": {
  "kernelspec": {
   "display_name": "Python 3",
   "language": "python",
   "name": "python3"
  },
  "language_info": {
   "codemirror_mode": {
    "name": "ipython",
    "version": 3
   },
   "file_extension": ".py",
   "mimetype": "text/x-python",
   "name": "python",
   "nbconvert_exporter": "python",
   "pygments_lexer": "ipython3",
   "version": "3.8.10"
  },
  "vscode": {
   "interpreter": {
    "hash": "4f58e81c2e092e1deee7556cb116668ef0b81c0e3f6aa3662faaf88ffce4bde0"
   }
  }
 },
 "nbformat": 4,
 "nbformat_minor": 5
}
